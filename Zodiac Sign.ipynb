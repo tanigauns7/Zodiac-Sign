{
 "cells": [
  {
   "cell_type": "code",
   "execution_count": 2,
   "id": "4514580f",
   "metadata": {},
   "outputs": [
    {
     "name": "stdout",
     "output_type": "stream",
     "text": [
      "Enter your birth month:3\n",
      "Enter your birth day:18\n",
      "you are a Pisces\n",
      "None\n"
     ]
    }
   ],
   "source": [
    "def zodiac_signs(day, month):\n",
    "\n",
    "    zodiac_sign = \"\"\n",
    "    days_in_month = {1:31,2:28,3:31,4:30,5:31,6:30,7:31,8:31,9:30,10:31,11:30,12:31}\n",
    "\n",
    "    if month < 1 or month > 12 or day > days_in_month[month] or day <1 :\n",
    "        return \"The birthday you entered is invalid\"\n",
    "\n",
    "    if (month == 3 and day >= 21) or (month == 4 and day <= 19):\n",
    "        zodiac_sign = \"Aries\"\n",
    "    elif (month == 4 and day >= 20) or (month == 5 and day <= 20):\n",
    "        zodiac_sign = \"Taurus\"\n",
    "    elif (month == 5 and day >= 21) or (month == 6 and day <= 20):\n",
    "        zodiac_sign = \"Gemini\"\n",
    "    elif (month == 6 and day >= 21) or (month == 7 and day <= 22):\n",
    "        zodiac_sign = \"Cancer\"\n",
    "    elif (month == 7 and day >= 23) or (month == 8 and day <= 22):\n",
    "        zodiac_sign = \"Leo\"\n",
    "    elif (month == 8 and day >= 23) or (month == 9 and day <= 22):\n",
    "        zodiac_sign = \"Virgo\"\n",
    "    elif (month == 9 and day >= 23) or (month == 10 and day <= 22):\n",
    "        zodiac_sign = \"Libra\"\n",
    "    elif (month == 10 and day >= 23) or (month == 11 and day <= 21):\n",
    "        zodiac_sign = \"Scorpio\"\n",
    "    elif (month == 11 and day >= 22) or (month == 12 and day <= 21):\n",
    "        zodiac_sign = \"Sagittarius\"\n",
    "    elif (month == 12 and day >= 22) or (month == 1 and day <= 19):\n",
    "        zodiac_sign = \"Capricorn\"\n",
    "    elif (month == 1 and day >= 20) or (month == 2 and day <= 18):\n",
    "        zodiac_sign = \"Aquarius\"\n",
    "    elif (month == 2 and day >= 19) or (month == 3 and day <= 20):\n",
    "        zodiac_sign = \"Pisces\"\n",
    "    else:\n",
    "        return \"The birthday you entered is invalid\"\n",
    "    print(\"you are a \"+str(zodiac_sign))\n",
    "\n",
    "month = int(input(\"Enter your birth month:\"))\n",
    "day = int(input(\"Enter your birth day:\"))\n",
    "result = zodiac_signs(day, month)\n",
    "print(result)"
   ]
  },
  {
   "cell_type": "code",
   "execution_count": null,
   "id": "5d99ebb8",
   "metadata": {},
   "outputs": [],
   "source": []
  }
 ],
 "metadata": {
  "kernelspec": {
   "display_name": "Python 3 (ipykernel)",
   "language": "python",
   "name": "python3"
  },
  "language_info": {
   "codemirror_mode": {
    "name": "ipython",
    "version": 3
   },
   "file_extension": ".py",
   "mimetype": "text/x-python",
   "name": "python",
   "nbconvert_exporter": "python",
   "pygments_lexer": "ipython3",
   "version": "3.11.4"
  }
 },
 "nbformat": 4,
 "nbformat_minor": 5
}
